{
  "cells": [
    {
      "metadata": {
        "_uuid": "ba02c54b6086f635cb821aa4ef5d1ec7d3519378"
      },
      "cell_type": "markdown",
      "source": "# **CONVOLUTIONAL NEURAL NETWORKS**\n\nOur brain uses extremly large interconnected network of neurons for processing information.A neuron collects information from other neurons and sums it .If the sum is greater than the thrshold then it fires the information to other neurons.\n\nA neural network is a a computer system modelled on the human brain and nervous system.\nthink neuron as a thing that holds number.\n\nThe following dataset has images with dimension of 28x28 pixels.So there are a total of 784 neurons.\nEach one of these holds a number that represents a grayscale value of the pixel 0 for black pixel and 255 for white pixel.The numbr on the neuron is known as its \"Activation\"\n\nAll of these 784 neurons make up the first layer of the network\n![](data:image/png;base64,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)\n\nThe last layer in this dataset are numbers from 1 to 10 indicating the type of clothing article.\nInbetween input and output there are hidden layers.\nEach layer can apply any function to the previous layer .\nHidden layer activations are tranformed by the output layer into whatever scale you wanted your output to be.\n\nIn this kernel we are going to perform image classification which is a task of taking an input image and outputting a class of that image using the features that best describes the image.\n\n***Convolutional Neural Networks*** are used in image processing and recognition.\n\nAfter the input layer,the first layer in CNN is the convolutional layer.\n In the convolutional layer ,we are going to apply a ***filter*** to the image(also known as ***kernel***).\n Take for example we have an image in the form of an 8X8 matrix which contains an array of numbers.\n \n  We apply a 3X3 filter to this matrix which also is an array of number known ad ***'weights'***.\n  \nAt first the position of the matrix would be at the top left corner.This matrix is moved along the image in a grid manner.All the elements of the matrix are multiplied with the elements of the image and are summed.\nNow we get a single value.Now we repeat this process for every location on the entire image\n![](https://i.imgur.com/Z6pYVXR.png)\nSo simply convolutions use a kernel matrix to scan a given image and apply a filter to obtain a certain effect.\nThe final result which you obtain is called as 'Activation Map' or 'Feature Map'.\n\nThe next step is to apply ***RELU(Rectified Linear Units) activation function***.\nRELU layers are used to add non linearity to the feature map.It enhances the sparsity or how scattered the feature map is.\nOn applying the RELUfunction what happens is that the negatives in the matrix becomes zero.RELU enhances the features of the image.\n\n![](http://https://www.google.co.in/imgres?imgurl=https%3A%2F%2Fi.imgur.com%2FEolgnXi.jpgg&imgrefurl=https%3A%2F%2Fhashrocket.com%2Fblog%2Fposts%2Fa-friendly-introduction-to-convolutional-neural-networks&docid=UOJF7qrgWyXlyM&tbnid=Sf9duvntQISsLM%3A&vet=12ahUKEwjPqvGrq4jfAhXNR30KHY19BBY4ZBAzKAIwAnoECAEQAw..i&w=871&h=424&bih=626&biw=1366&q=relu%20function%20in%20matrix&ved=2ahUKEwjPqvGrq4jfAhXNR30KHY19BBY4ZBAzKAIwAnoECAEQAw&iact=mrc&uact=8)\n\nDifferent activation functions\n![](https://www.google.co.in/imgres?imgurl=https%3A%2F%2Fqph.fs.quoracdn.net%2Fmain-qimg-07bc0ec05532caf5ebe8b4c82d0f5ca3&imgrefurl=https%3A%2F%2Fwww.quora.com%2FWhy-is-ReLU-the-most-common-activation-function-used-in-neural-networks&docid=AyjpGvpwzg7fTM&tbnid=ndKtpfstLKXm_M%3A&vet=10ahUKEwjNmoTWq4jfAhVQSX0KHQ7CAyoQMwhJKAswCw..i&w=602&h=303&bih=626&biw=1366&q=neural%20networks%20relu&ved=0ahUKEwjNmoTWq4jfAhVQSX0KHQ7CAyoQMwhJKAswCw&iact=mrc&uact=8)\n\nNext step that we are going to perform is MaxPooling.\nPooling or downsampling helps reduce the feature map dimensionality.\nUsed to improve computational efficiency while preserving its features\n ![](data:image/png;base64,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)\n MaxPooling with a Stride=2(Stride=Movement)\n So the 2X2 filter starts from the top left,takes the maximum value and then moves two grids away(stride=2).This is performed 4 times and we get a 2X2 matrix as output.\n \n So what we did was we reduced the feature dimensionality, we moved from a 4X4 to a 2x2 matrix.Only the most prominent features were kept in the 2X2 matrix.MaxPooling also helps the generalize the model\n \n Next step is Flattening.\n Flattening is the process of converting all the resultant 2 dimensional arrays into a single long continuous linear vector.\n Basically that all the values row by row and convert them into one single column.\n \n ![](data:image/png;base64,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)\n The last stage is called a dense layer, which is just an artificial neural network (ANN) classifier.\n And an ANN classifier needs individual features. This means it needs a feature vector.\nTherefore, you need to convert the output of the convolutional part of the CNN into a 1D feature vector, to be used by the ANN part of it.\n\nThe last layer is the ***Fully Connected Layer***. This layer basically takes an input volume (whatever the output is of the conv or ReLU or pool layer preceding it) and outputs an N dimensional vector where N is the number of classes that the program has to choose from.In this case our N is 10 since we have 10 types of clothing articles\nThe way this fully connected layer works is that it looks at the output of the previous layer and determines which features most correlate to a particular class.\n\nNow,lets us write the code for this dataset.\n\n\n\n"
    },
    {
      "metadata": {
        "_uuid": "c314c0ca2b6d5f0c29a629dcb352adfc32c44ed8"
      },
      "cell_type": "markdown",
      "source": "**IMPORTING DATASET**"
    },
    {
      "metadata": {
        "_uuid": "8f2839f25d086af736a60e9eeb907d3b93b6e0e5",
        "_cell_guid": "b1076dfc-b9ad-4769-8c92-a6c4dae69d19",
        "trusted": true
      },
      "cell_type": "code",
      "source": "import pandas as pd\nimport numpy as np\nimport seaborn as sns\nimport matplotlib.pyplot as plt",
      "execution_count": null,
      "outputs": []
    },
    {
      "metadata": {
        "_cell_guid": "79c7e3d0-c299-4dcb-8224-4455121ee9b0",
        "_uuid": "d629ff2d2480ee46fbb7e2d37f6b5fab8052498a",
        "trusted": true
      },
      "cell_type": "code",
      "source": "train_df=pd.read_csv('../input/fashion-mnist_train.csv',sep=',')\ntest_df=pd.read_csv('../input/fashion-mnist_test.csv',sep=',')",
      "execution_count": null,
      "outputs": []
    },
    {
      "metadata": {
        "_uuid": "80566b97312e9e4e924bb3d90db29a2704a668aa"
      },
      "cell_type": "markdown",
      "source": "**VISUALIZATION**"
    },
    {
      "metadata": {
        "trusted": true,
        "_uuid": "59b415851531c6e4b28983d3245d9303034f49cf"
      },
      "cell_type": "code",
      "source": "train_df.head()",
      "execution_count": null,
      "outputs": []
    },
    {
      "metadata": {
        "trusted": true,
        "_uuid": "73b782d19cec1ba3c699b56cabf54eff2813c425"
      },
      "cell_type": "code",
      "source": "test_df.head()",
      "execution_count": null,
      "outputs": []
    },
    {
      "metadata": {
        "trusted": true,
        "_uuid": "b6f9d9073814c68971db5fad993c0b802473f2e6"
      },
      "cell_type": "code",
      "source": "train_df.shape",
      "execution_count": null,
      "outputs": []
    },
    {
      "metadata": {
        "trusted": true,
        "_uuid": "ac381b25ec3c4a2554f2ba0845fa2decc59ff2ea"
      },
      "cell_type": "code",
      "source": "test_df.shape",
      "execution_count": null,
      "outputs": []
    },
    {
      "metadata": {
        "trusted": true,
        "_uuid": "91becdc5f87f84f0125cf9c11e5def952c6c6623"
      },
      "cell_type": "code",
      "source": "training=np.array(train_df,dtype='float32')",
      "execution_count": null,
      "outputs": []
    },
    {
      "metadata": {
        "trusted": true,
        "_uuid": "f8428e57ec3221b8fae7413194220730a35109fa"
      },
      "cell_type": "code",
      "source": "testing=np.array(test_df,dtype='float32')",
      "execution_count": null,
      "outputs": []
    },
    {
      "metadata": {
        "trusted": true,
        "_uuid": "19c2cff2dc0474680446cd418714fd14a270e3f2"
      },
      "cell_type": "code",
      "source": "import random\ni=random.randint(1,60000)\nplt.imshow(training[i,1:].reshape(28,28))\nlabel=training[i,0]\nlabel",
      "execution_count": null,
      "outputs": []
    },
    {
      "metadata": {
        "_uuid": "eedd5fd3602b5d7fe45fddd1add2e20d28ff99c6"
      },
      "cell_type": "markdown",
      "source": "**MODEL TRAINING**"
    },
    {
      "metadata": {
        "trusted": true,
        "_uuid": "34dd2f6fa8724ed4e4129eec973f2684b52e7b1a"
      },
      "cell_type": "code",
      "source": "X_train=training[:,1:]/255\n'''Normalization ((X-Xmin)/(Xmax-Xmin))=(X-0)/(255-0)\nCNN works better when the data is normalized.Pixel takes values between 0 to 255'''\nY_train=training[:,0]\nX_test=testing[:,1:]/255\nY_test=testing[:,0]",
      "execution_count": null,
      "outputs": []
    },
    {
      "metadata": {
        "trusted": true,
        "_uuid": "f2d133a769a995ef99bebd618dac4c357826422d"
      },
      "cell_type": "code",
      "source": "from sklearn.model_selection import train_test_split\nX_train,X_validate,Y_train,Y_validate=train_test_split(X_train,Y_train,test_size=0.2,random_state=10)",
      "execution_count": null,
      "outputs": []
    },
    {
      "metadata": {
        "trusted": true,
        "_uuid": "b8196220ca68a10ca04d39df8f26a8fdae8da337"
      },
      "cell_type": "code",
      "source": "X_train=X_train.reshape(X_train.shape[0],*(28,28,1))\nX_test=X_test.reshape(X_test.shape[0],*(28,28,1))\nX_validate=X_validate.reshape(X_validate.shape[0],*(28,28,1))\n#validation dataset to help the model generalize\n#reshape data to be in the form of 28X28",
      "execution_count": null,
      "outputs": []
    },
    {
      "metadata": {
        "trusted": true,
        "_uuid": "fc5da3b21d9032ab0aa53e7d3438cf10d21396dd"
      },
      "cell_type": "code",
      "source": "X_validate.shape",
      "execution_count": null,
      "outputs": []
    },
    {
      "metadata": {
        "trusted": true,
        "_uuid": "f33d62c044e653beb776782cfe77a1116893083e"
      },
      "cell_type": "code",
      "source": "import keras\nfrom keras import Sequential\nfrom keras.layers import Conv2D,MaxPooling2D,Dense,Flatten,Dropout\nfrom keras.optimizers import Adam\nfrom keras.callbacks import TensorBoard\n",
      "execution_count": null,
      "outputs": []
    },
    {
      "metadata": {
        "trusted": true,
        "_uuid": "2859ca8428a3d440996e36d4c9be4b8e1a218193"
      },
      "cell_type": "code",
      "source": "cnn_model=Sequential()\ncnn_model.add(Conv2D(32,3,3,input_shape=(28,28,1),activation='relu'))\n#Conv2D=convolutional layer\n#32 indicates the number of kernels,with 3X3 dimensions\n#activation function=RELU",
      "execution_count": null,
      "outputs": []
    },
    {
      "metadata": {
        "trusted": true,
        "_uuid": "d7604273f54e263a66f9bd85b3f45ab67b6d7275"
      },
      "cell_type": "code",
      "source": "cnn_model.add(MaxPooling2D(pool_size=(2,2)))\n#pooling size=2X2 matrix",
      "execution_count": null,
      "outputs": []
    },
    {
      "metadata": {
        "trusted": true,
        "_uuid": "1a42738f4a08cee49572645e558dca20ac04daec"
      },
      "cell_type": "code",
      "source": "cnn_model.add(Flatten())\n#Flattening ",
      "execution_count": null,
      "outputs": []
    },
    {
      "metadata": {
        "trusted": true,
        "_uuid": "e68029f1c0833564b51adb166b985cbc144de4b9"
      },
      "cell_type": "code",
      "source": "cnn_model.add(Dense(output_dim=32,activation='relu'))\n#dense layer ,hidden layer\ncnn_model.add(Dense(output_dim=10,activation='sigmoid'))\n",
      "execution_count": null,
      "outputs": []
    },
    {
      "metadata": {
        "trusted": true,
        "_uuid": "d9af6d4924693f1da3bae09446a3a75538016f04"
      },
      "cell_type": "code",
      "source": "cnn_model.compile(loss='sparse_categorical_crossentropy',optimizer=Adam(lr=0.001),metrics=['accuracy'])\n#Adam optimizer,loss= categorial cross entropy we use cross categorial because we are simply categorizing our dataset",
      "execution_count": null,
      "outputs": []
    },
    {
      "metadata": {
        "trusted": true,
        "_uuid": "2bd3a901443e102761284bd8c3c591d1ceae2d18"
      },
      "cell_type": "code",
      "source": "epochs=40\ncnn_model.fit(X_train,Y_train,batch_size=512,nb_epoch=epochs,verbose=1,validation_data=(X_validate,Y_validate))\n#epochs=50, how many timeswe are going to present our dataset and updating the weights",
      "execution_count": null,
      "outputs": []
    },
    {
      "metadata": {
        "_uuid": "e0dbf40f0e37456fb07037523bbbec38185d42cf"
      },
      "cell_type": "markdown",
      "source": "**EVALUATION**"
    },
    {
      "metadata": {
        "trusted": true,
        "_uuid": "d729374ad02cb49bcfa1126faab95298ceed8fcd"
      },
      "cell_type": "code",
      "source": "evaluation=cnn_model.evaluate(X_test,Y_test)\nprint('Test Accuracy::{:.3f}'.format(evaluation[1]))\n",
      "execution_count": null,
      "outputs": []
    },
    {
      "metadata": {
        "trusted": true,
        "_uuid": "ab0c4485d0b953a59ce6fc781cce1fcb19aa26d2"
      },
      "cell_type": "code",
      "source": "predicted_classes=cnn_model.predict_classes(X_test)\npredicted_classes",
      "execution_count": null,
      "outputs": []
    },
    {
      "metadata": {
        "trusted": true,
        "_uuid": "533dea1840a1d6c70d64e937e9f212fff4a2fad5"
      },
      "cell_type": "code",
      "source": "L=5\nW=5\nfig,axes=plt.subplots(L,W,figsize=(12,12))\naxes=axes.ravel()\n\nfor i in np.arange(0,L * W):\n   axes[i].imshow(X_test[i].reshape(28,28))\n   axes[i].set_title(\"Prediction class={:0.1f}\\n,true class={:0.1f}\".format(predicted_classes[i],Y_test[i]))\n   axes[i].axis('off')\n\nplt.subplots_adjust(wspace=0.5)",
      "execution_count": null,
      "outputs": []
    },
    {
      "metadata": {
        "trusted": true,
        "_uuid": "76376b21564606f9d0b2aa5275b321bc7aed1c06"
      },
      "cell_type": "code",
      "source": "",
      "execution_count": null,
      "outputs": []
    }
  ],
  "metadata": {
    "kernelspec": {
      "display_name": "Python 3",
      "language": "python",
      "name": "python3"
    },
    "language_info": {
      "name": "python",
      "version": "3.6.6",
      "mimetype": "text/x-python",
      "codemirror_mode": {
        "name": "ipython",
        "version": 3
      },
      "pygments_lexer": "ipython3",
      "nbconvert_exporter": "python",
      "file_extension": ".py"
    }
  },
  "nbformat": 4,
  "nbformat_minor": 1
}